{
 "cells": [
  {
   "cell_type": "code",
   "execution_count": 1,
   "metadata": {},
   "outputs": [
    {
     "name": "stderr",
     "output_type": "stream",
     "text": [
      "/Users/mmccurdy/.virtualenvs/starwars-namer/lib/python3.6/site-packages/h5py/__init__.py:36: FutureWarning: Conversion of the second argument of issubdtype from `float` to `np.floating` is deprecated. In future, it will be treated as `np.float64 == np.dtype(float).type`.\n",
      "  from ._conv import register_converters as _register_converters\n",
      "Using TensorFlow backend.\n"
     ]
    }
   ],
   "source": [
    "import pandas\n",
    "import numpy\n",
    "import random\n",
    "import sys\n",
    "\n",
    "from keras.callbacks import EarlyStopping, ModelCheckpoint\n",
    "from keras.models import Sequential\n",
    "from keras.layers import Dense, Activation, Dropout\n",
    "from keras.layers import LSTM, GRU\n",
    "from keras.optimizers import RMSprop, Adam, SGD\n",
    "\n",
    "import matplotlib.pyplot as plt\n",
    "\n",
    "%matplotlib inline"
   ]
  },
  {
   "cell_type": "code",
   "execution_count": 2,
   "metadata": {},
   "outputs": [
    {
     "name": "stdout",
     "output_type": "stream",
     "text": [
      "/Users/mmccurdy/code/starwars-namer\n"
     ]
    }
   ],
   "source": [
    "cd .."
   ]
  },
  {
   "cell_type": "code",
   "execution_count": 60,
   "metadata": {},
   "outputs": [],
   "source": [
    "from swnamer.process import *"
   ]
  },
  {
   "cell_type": "code",
   "execution_count": 5,
   "metadata": {},
   "outputs": [],
   "source": [
    "names = pandas.read_csv('output/names.csv')\n",
    "sw_names = pandas.read_csv('output/starwars_processed.csv')"
   ]
  },
  {
   "cell_type": "code",
   "execution_count": 6,
   "metadata": {},
   "outputs": [],
   "source": [
    "combined = pandas.concat([names, sw_names])"
   ]
  },
  {
   "cell_type": "code",
   "execution_count": 10,
   "metadata": {},
   "outputs": [],
   "source": [
    "timesteps = 3"
   ]
  },
  {
   "cell_type": "code",
   "execution_count": 9,
   "metadata": {},
   "outputs": [],
   "source": [
    "token_to_index, index_to_token = create_indices(combined, 'name')"
   ]
  },
  {
   "cell_type": "code",
   "execution_count": 11,
   "metadata": {},
   "outputs": [],
   "source": [
    "with open('output/names.csv') as infile:\n",
    "    infile.readline()\n",
    "    names_text = infile.read()"
   ]
  },
  {
   "cell_type": "code",
   "execution_count": 15,
   "metadata": {},
   "outputs": [],
   "source": [
    "names_text = names_text.lower()"
   ]
  },
  {
   "cell_type": "code",
   "execution_count": 17,
   "metadata": {},
   "outputs": [],
   "source": [
    "chunks, next_char = chunk_names_file(names_text, timesteps)"
   ]
  },
  {
   "cell_type": "code",
   "execution_count": 18,
   "metadata": {},
   "outputs": [
    {
     "data": {
      "text/plain": [
       "72"
      ]
     },
     "execution_count": 18,
     "metadata": {},
     "output_type": "execute_result"
    }
   ],
   "source": [
    "vocab_size = len(token_to_index)\n",
    "vocab_size"
   ]
  },
  {
   "cell_type": "code",
   "execution_count": 19,
   "metadata": {},
   "outputs": [],
   "source": [
    "X, y = create_training_vectors(chunks, next_char, token_to_index, timesteps, vocab_size)"
   ]
  },
  {
   "cell_type": "code",
   "execution_count": 20,
   "metadata": {},
   "outputs": [
    {
     "data": {
      "text/plain": [
       "(55852, 3, 72)"
      ]
     },
     "execution_count": 20,
     "metadata": {},
     "output_type": "execute_result"
    }
   ],
   "source": [
    "X.shape"
   ]
  },
  {
   "cell_type": "code",
   "execution_count": 21,
   "metadata": {},
   "outputs": [
    {
     "data": {
      "text/plain": [
       "(55852, 72)"
      ]
     },
     "execution_count": 21,
     "metadata": {},
     "output_type": "execute_result"
    }
   ],
   "source": [
    "y.shape"
   ]
  },
  {
   "cell_type": "code",
   "execution_count": 40,
   "metadata": {},
   "outputs": [],
   "source": [
    "model = Sequential()\n",
    "model.add(LSTM(64, input_shape=(timesteps, vocab_size), return_sequences=True))\n",
    "model.add(LSTM(64, input_shape=(timesteps, vocab_size)))\n",
    "model.add(Dense(vocab_size))\n",
    "model.add(Activation('softmax'))\n",
    "optimizer = Adam(lr=.01, clipvalue=5)\n",
    "model.compile(optimizer, 'categorical_crossentropy')"
   ]
  },
  {
   "cell_type": "code",
   "execution_count": 41,
   "metadata": {},
   "outputs": [],
   "source": [
    "es = EarlyStopping(mode='min', patience=7, min_delta=.001)\n",
    "sampler = SampleNamesFile(timesteps, vocab_size, token_to_index, index_to_token, names_text)\n",
    "checkpoint = ModelCheckpoint('output/names-base-model.hdf5', save_best_only=True)\n",
    "callbacks = [sampler, es, checkpoint]"
   ]
  },
  {
   "cell_type": "code",
   "execution_count": 42,
   "metadata": {},
   "outputs": [
    {
     "name": "stdout",
     "output_type": "stream",
     "text": [
      "Train on 44681 samples, validate on 11171 samples\n",
      "Epoch 1/200\n",
      "44681/44681 [==============================] - 10s 220us/step - loss: 2.3923 - val_loss: 2.2307\n",
      "\n",
      "----- Generating text after Epoch: 0\n",
      "----- Generating with seed: \"y\"\n",
      "----- diversity: 0.2\n",
      "ya\n",
      "----- diversity: 0.5\n",
      "ya\n",
      "----- diversity: 1.0\n",
      "ytlitherges\n",
      "----- diversity: 1.2\n",
      "yoprirozeidh\n",
      "Epoch 2/200\n",
      "44681/44681 [==============================] - 9s 192us/step - loss: 2.1591 - val_loss: 2.1502\n",
      "Epoch 3/200\n",
      "44681/44681 [==============================] - 9s 206us/step - loss: 2.0761 - val_loss: 2.1061\n",
      "Epoch 4/200\n",
      "44681/44681 [==============================] - 12s 267us/step - loss: 2.0210 - val_loss: 2.0770\n",
      "Epoch 5/200\n",
      "44681/44681 [==============================] - 13s 290us/step - loss: 1.9827 - val_loss: 2.0737\n",
      "Epoch 6/200\n",
      "44681/44681 [==============================] - 12s 268us/step - loss: 1.9540 - val_loss: 2.0739\n",
      "\n",
      "----- Generating text after Epoch: 5\n",
      "----- Generating with seed: \"h\"\n",
      "----- diversity: 0.2\n",
      "h\n",
      "----- diversity: 0.5\n",
      "hner\n",
      "----- diversity: 1.0\n",
      "h\n",
      "----- diversity: 1.2\n",
      "herdasindy\n",
      "Epoch 7/200\n",
      "44681/44681 [==============================] - 9s 193us/step - loss: 1.9324 - val_loss: 2.0636\n",
      "Epoch 8/200\n",
      "44681/44681 [==============================] - 10s 228us/step - loss: 1.9138 - val_loss: 2.0700\n",
      "Epoch 9/200\n",
      "44681/44681 [==============================] - 10s 233us/step - loss: 1.9009 - val_loss: 2.0778\n",
      "Epoch 10/200\n",
      "44681/44681 [==============================] - 11s 252us/step - loss: 1.8866 - val_loss: 2.0688\n",
      "Epoch 11/200\n",
      "44681/44681 [==============================] - 10s 227us/step - loss: 1.8770 - val_loss: 2.0895\n",
      "\n",
      "----- Generating text after Epoch: 10\n",
      "----- Generating with seed: \"o\"\n",
      "----- diversity: 0.2\n",
      "o\n",
      "----- diversity: 0.5\n",
      "oael\n",
      "----- diversity: 1.0\n",
      "oala\n",
      "----- diversity: 1.2\n",
      "ona\n",
      "Epoch 12/200\n",
      "44681/44681 [==============================] - 12s 267us/step - loss: 1.8677 - val_loss: 2.0848\n",
      "Epoch 13/200\n",
      "44681/44681 [==============================] - 9s 197us/step - loss: 1.8579 - val_loss: 2.0875\n",
      "Epoch 14/200\n",
      "44681/44681 [==============================] - 10s 215us/step - loss: 1.8505 - val_loss: 2.0919\n"
     ]
    }
   ],
   "source": [
    "history = model.fit(X, y, validation_split=.2, epochs=200, batch_size=32, callbacks=callbacks)"
   ]
  },
  {
   "cell_type": "code",
   "execution_count": 62,
   "metadata": {},
   "outputs": [
    {
     "data": {
      "image/png": "[encoded data removed]",
      "text/plain": [
       "<Figure size 432x288 with 1 Axes>"
      ]
     },
     "metadata": {},
     "output_type": "display_data"
    }
   ],
   "source": [
    "plt.plot(history.history['loss'])\n",
    "plt.plot(history.history['val_loss'])\n",
    "plt.title('model loss')\n",
    "plt.ylabel('categorical cross entropy')\n",
    "plt.xlabel('epoch')\n",
    "plt.legend(['train', 'test'], loc='upper right')\n",
    "plt.show()"
   ]
  },
  {
   "cell_type": "code",
   "execution_count": 43,
   "metadata": {},
   "outputs": [],
   "source": [
    "gen = NameGenerator(timesteps, vocab_size, token_to_index, index_to_token, model)"
   ]
  },
  {
   "cell_type": "code",
   "execution_count": 59,
   "metadata": {},
   "outputs": [
    {
     "data": {
      "text/plain": [
       "['lmronne', 'oee', 'kt', '', 'darine', 'r', 'm', 'md', 'hnte', 'aaimilthelina']"
      ]
     },
     "execution_count": 59,
     "metadata": {},
     "output_type": "execute_result"
    }
   ],
   "source": [
    "gen.generate(10, seed='')"
   ]
  },
  {
   "cell_type": "code",
   "execution_count": 63,
   "metadata": {},
   "outputs": [
    {
     "name": "stdout",
     "output_type": "stream",
     "text": [
      "Train on 44681 samples, validate on 11171 samples\n",
      "Epoch 1/200\n",
      "44681/44681 [==============================] - 11s 254us/step - loss: 2.5389 - val_loss: 2.3216\n",
      "\n",
      "----- Generating text after Epoch: 0\n",
      "----- Generating with seed: \"u\"\n",
      "----- diversity: 0.2\n",
      "u\n",
      "----- diversity: 0.5\n",
      "uad\n",
      "----- diversity: 1.0\n",
      "uine\n",
      "----- diversity: 1.2\n",
      "ues\n",
      "Epoch 2/200\n",
      "44681/44681 [==============================] - 10s 213us/step - loss: 2.3620 - val_loss: 2.2614\n",
      "Epoch 3/200\n",
      "44681/44681 [==============================] - 10s 230us/step - loss: 2.3191 - val_loss: 2.2274\n",
      "Epoch 4/200\n",
      "44681/44681 [==============================] - 10s 220us/step - loss: 2.2935 - val_loss: 2.2074\n",
      "Epoch 5/200\n",
      "44681/44681 [==============================] - 10s 228us/step - loss: 2.2785 - val_loss: 2.1926\n",
      "Epoch 6/200\n",
      "44681/44681 [==============================] - 10s 221us/step - loss: 2.2613 - val_loss: 2.1839\n",
      "\n",
      "----- Generating text after Epoch: 5\n",
      "----- Generating with seed: \"q\"\n",
      "----- diversity: 0.2\n",
      "qnnne\n",
      "----- diversity: 0.5\n",
      "qnndre\n",
      "----- diversity: 1.0\n",
      "qns\n",
      "----- diversity: 1.2\n",
      "qcdnar\n",
      "Epoch 7/200\n",
      "44681/44681 [==============================] - 11s 241us/step - loss: 2.2522 - val_loss: 2.1645\n",
      "Epoch 8/200\n",
      "44681/44681 [==============================] - 10s 224us/step - loss: 2.2406 - val_loss: 2.1567\n",
      "Epoch 9/200\n",
      "44681/44681 [==============================] - 11s 240us/step - loss: 2.2311 - val_loss: 2.1587\n",
      "Epoch 10/200\n",
      "44681/44681 [==============================] - 10s 228us/step - loss: 2.2263 - val_loss: 2.1496\n",
      "Epoch 11/200\n",
      "44681/44681 [==============================] - 10s 222us/step - loss: 2.2210 - val_loss: 2.1394\n",
      "\n",
      "----- Generating text after Epoch: 10\n",
      "----- Generating with seed: \"f\"\n",
      "----- diversity: 0.2\n",
      "fn\n",
      "----- diversity: 0.5\n",
      "fdgell\n",
      "----- diversity: 1.0\n",
      "fnebess\n",
      "----- diversity: 1.2\n",
      "fira\n",
      "Epoch 12/200\n",
      "44681/44681 [==============================] - 10s 224us/step - loss: 2.2171 - val_loss: 2.1381\n",
      "Epoch 13/200\n",
      "44681/44681 [==============================] - 10s 226us/step - loss: 2.2060 - val_loss: 2.1294\n",
      "Epoch 14/200\n",
      "44681/44681 [==============================] - 10s 228us/step - loss: 2.2025 - val_loss: 2.1279\n",
      "Epoch 15/200\n",
      "44681/44681 [==============================] - 10s 226us/step - loss: 2.1980 - val_loss: 2.1196\n",
      "Epoch 16/200\n",
      "44681/44681 [==============================] - 10s 226us/step - loss: 2.1950 - val_loss: 2.1219\n",
      "\n",
      "----- Generating text after Epoch: 15\n",
      "----- Generating with seed: \"g\"\n",
      "----- diversity: 0.2\n",
      "g\n",
      "----- diversity: 0.5\n",
      "grgele\n",
      "----- diversity: 1.0\n",
      "galanda\n",
      "----- diversity: 1.2\n",
      "gund\n",
      "Epoch 17/200\n",
      "44681/44681 [==============================] - 10s 232us/step - loss: 2.2003 - val_loss: 2.1179\n",
      "Epoch 18/200\n",
      "44681/44681 [==============================] - 10s 231us/step - loss: 2.1905 - val_loss: 2.1151\n",
      "Epoch 19/200\n",
      "44681/44681 [==============================] - 11s 239us/step - loss: 2.1905 - val_loss: 2.1118\n",
      "Epoch 20/200\n",
      "44681/44681 [==============================] - 10s 226us/step - loss: 2.1855 - val_loss: 2.1091\n",
      "Epoch 21/200\n",
      "44681/44681 [==============================] - 9s 202us/step - loss: 2.1821 - val_loss: 2.1101\n",
      "\n",
      "----- Generating text after Epoch: 20\n",
      "----- Generating with seed: \"i\"\n",
      "----- diversity: 0.2\n",
      "i\n",
      "----- diversity: 0.5\n",
      "i\n",
      "----- diversity: 1.0\n",
      "irt\n",
      "----- diversity: 1.2\n",
      "ia\n",
      "Epoch 22/200\n",
      "44681/44681 [==============================] - 9s 200us/step - loss: 2.1778 - val_loss: 2.1115\n",
      "Epoch 23/200\n",
      "44681/44681 [==============================] - 9s 200us/step - loss: 2.1779 - val_loss: 2.0977\n",
      "Epoch 24/200\n",
      "44681/44681 [==============================] - 9s 199us/step - loss: 2.1734 - val_loss: 2.1062\n",
      "Epoch 25/200\n",
      "44681/44681 [==============================] - 9s 200us/step - loss: 2.1764 - val_loss: 2.1042\n",
      "Epoch 26/200\n",
      "44681/44681 [==============================] - 9s 201us/step - loss: 2.1704 - val_loss: 2.0977\n",
      "\n",
      "----- Generating text after Epoch: 25\n",
      "----- Generating with seed: \"c\"\n",
      "----- diversity: 0.2\n",
      "cia\n",
      "----- diversity: 0.5\n",
      "clria\n",
      "----- diversity: 1.0\n",
      "clriellethedmeberta\n",
      "----- diversity: 1.2\n",
      "c\n",
      "Epoch 27/200\n",
      "44681/44681 [==============================] - 9s 202us/step - loss: 2.1650 - val_loss: 2.1009\n",
      "Epoch 28/200\n",
      "44681/44681 [==============================] - 9s 200us/step - loss: 2.1668 - val_loss: 2.0986\n",
      "Epoch 29/200\n",
      "44681/44681 [==============================] - 9s 198us/step - loss: 2.1623 - val_loss: 2.1047\n",
      "Epoch 30/200\n",
      "44681/44681 [==============================] - 9s 199us/step - loss: 2.1622 - val_loss: 2.0934\n",
      "Epoch 31/200\n",
      "44681/44681 [==============================] - 9s 199us/step - loss: 2.1603 - val_loss: 2.0992\n",
      "\n",
      "----- Generating text after Epoch: 30\n",
      "----- Generating with seed: \"n\"\n",
      "----- diversity: 0.2\n",
      "n\n",
      "----- diversity: 0.5\n",
      "n\n",
      "----- diversity: 1.0\n",
      "naddarline\n",
      "----- diversity: 1.2\n",
      "nrny\n",
      "Epoch 32/200\n",
      "44681/44681 [==============================] - 9s 208us/step - loss: 2.1600 - val_loss: 2.1009\n",
      "Epoch 33/200\n",
      "44681/44681 [==============================] - 9s 198us/step - loss: 2.1588 - val_loss: 2.0954\n",
      "Epoch 34/200\n",
      "44681/44681 [==============================] - 9s 201us/step - loss: 2.1561 - val_loss: 2.0954\n",
      "Epoch 35/200\n",
      "44681/44681 [==============================] - 9s 200us/step - loss: 2.1555 - val_loss: 2.0927\n",
      "Epoch 36/200\n",
      "44681/44681 [==============================] - 9s 198us/step - loss: 2.1599 - val_loss: 2.0962\n",
      "\n",
      "----- Generating text after Epoch: 35\n",
      "----- Generating with seed: \"o\"\n",
      "----- diversity: 0.2\n",
      "o\n",
      "----- diversity: 0.5\n",
      "o\n",
      "----- diversity: 1.0\n",
      "oane\n",
      "----- diversity: 1.2\n",
      "oeyla\n",
      "Epoch 37/200\n",
      "44681/44681 [==============================] - 9s 198us/step - loss: 2.1553 - val_loss: 2.0900\n",
      "Epoch 38/200\n",
      "44681/44681 [==============================] - 9s 204us/step - loss: 2.1558 - val_loss: 2.0832\n",
      "Epoch 39/200\n",
      "44681/44681 [==============================] - 9s 198us/step - loss: 2.1495 - val_loss: 2.0905\n",
      "Epoch 40/200\n",
      "44681/44681 [==============================] - 9s 212us/step - loss: 2.1522 - val_loss: 2.0904\n",
      "Epoch 41/200\n",
      "44681/44681 [==============================] - 9s 201us/step - loss: 2.1528 - val_loss: 2.0906\n",
      "\n",
      "----- Generating text after Epoch: 40\n",
      "----- Generating with seed: \"p\"\n",
      "----- diversity: 0.2\n",
      "p\n",
      "----- diversity: 0.5\n",
      "pandian\n",
      "----- diversity: 1.0\n",
      "prde\n",
      "----- diversity: 1.2\n",
      "plee\n",
      "Epoch 42/200\n",
      "44681/44681 [==============================] - 9s 212us/step - loss: 2.1501 - val_loss: 2.0894\n",
      "Epoch 43/200\n",
      "44681/44681 [==============================] - 9s 209us/step - loss: 2.1480 - val_loss: 2.0939\n",
      "Epoch 44/200\n",
      "44681/44681 [==============================] - 9s 197us/step - loss: 2.1465 - val_loss: 2.0849\n",
      "Epoch 45/200\n",
      "44681/44681 [==============================] - 9s 212us/step - loss: 2.1477 - val_loss: 2.0841\n"
     ]
    }
   ],
   "source": [
    "model = Sequential()\n",
    "model.add(LSTM(64, input_shape=(timesteps, vocab_size), return_sequences=True))\n",
    "model.add(Dropout(.5))\n",
    "model.add(LSTM(64, input_shape=(timesteps, vocab_size)))\n",
    "model.add(Dropout(.5))\n",
    "model.add(Dense(vocab_size))\n",
    "model.add(Activation('softmax'))\n",
    "optimizer = Adam(lr=.01, clipvalue=5)\n",
    "model.compile(optimizer, 'categorical_crossentropy')\n",
    "\n",
    "es = EarlyStopping(mode='min', patience=7, min_delta=.001)\n",
    "sampler = SampleNamesFile(timesteps, vocab_size, token_to_index, index_to_token, names_text)\n",
    "checkpoint = ModelCheckpoint('output/names-base-model.hdf5', save_best_only=True)\n",
    "callbacks = [sampler, es, checkpoint]\n",
    "\n",
    "history = model.fit(X, y, validation_split=.2, epochs=200, batch_size=32, callbacks=callbacks)"
   ]
  },
  {
   "cell_type": "code",
   "execution_count": 64,
   "metadata": {},
   "outputs": [
    {
     "data": {
      "image/png": "[encoded data removed]",
      "text/plain": [
       "<Figure size 432x288 with 1 Axes>"
      ]
     },
     "metadata": {},
     "output_type": "display_data"
    }
   ],
   "source": [
    "plt.plot(history.history['loss'])\n",
    "plt.plot(history.history['val_loss'])\n",
    "plt.title('model loss')\n",
    "plt.ylabel('categorical cross entropy')\n",
    "plt.xlabel('epoch')\n",
    "plt.legend(['train', 'test'], loc='upper right')\n",
    "plt.show()"
   ]
  },
  {
   "cell_type": "code",
   "execution_count": 65,
   "metadata": {},
   "outputs": [],
   "source": [
    "gen = NameGenerator(timesteps, vocab_size, token_to_index, index_to_token, model)"
   ]
  },
  {
   "cell_type": "code",
   "execution_count": 75,
   "metadata": {},
   "outputs": [
    {
     "data": {
      "text/plain": [
       "['dusta',\n",
       " 'dus',\n",
       " 'dus',\n",
       " 'dusetinasthakelsetu',\n",
       " 'dussemaivy',\n",
       " 'dus',\n",
       " 'dus',\n",
       " 'dusuchersprykmeicaky',\n",
       " 'dustoinethyla',\n",
       " 'dus']"
      ]
     },
     "execution_count": 75,
     "metadata": {},
     "output_type": "execute_result"
    }
   ],
   "source": [
    "gen.generate(10, seed='dus', diversity=1.5)"
   ]
  },
  {
   "cell_type": "code",
   "execution_count": 74,
   "metadata": {},
   "outputs": [
    {
     "name": "stdout",
     "output_type": "stream",
     "text": [
      "Train on 44681 samples, validate on 11171 samples\n",
      "Epoch 1/200\n",
      "44681/44681 [==============================] - 9s 197us/step - loss: 2.3279 - val_loss: 2.2052\n",
      "\n",
      "----- Generating text after Epoch: 0\n",
      "----- Generating with seed: \"u\"\n",
      "----- diversity: 0.2\n",
      "uiine\n",
      "----- diversity: 0.5\n",
      "uih\n",
      "----- diversity: 1.0\n",
      "uianni\n",
      "----- diversity: 1.2\n",
      "urie\n",
      "Epoch 2/200\n",
      "44681/44681 [==============================] - 7s 148us/step - loss: 2.1199 - val_loss: 2.1132\n",
      "Epoch 3/200\n",
      "44681/44681 [==============================] - 6s 136us/step - loss: 2.0342 - val_loss: 2.0758\n",
      "Epoch 4/200\n",
      "44681/44681 [==============================] - 6s 140us/step - loss: 1.9835 - val_loss: 2.0682\n",
      "Epoch 5/200\n",
      "44681/44681 [==============================] - 6s 142us/step - loss: 1.9446 - val_loss: 2.0638\n",
      "Epoch 6/200\n",
      "44681/44681 [==============================] - 7s 155us/step - loss: 1.9182 - val_loss: 2.0460\n",
      "\n",
      "----- Generating text after Epoch: 5\n",
      "----- Generating with seed: \"i\"\n",
      "----- diversity: 0.2\n",
      "ia\n",
      "----- diversity: 0.5\n",
      "iaannie\n",
      "----- diversity: 1.0\n",
      "iofordie\n",
      "----- diversity: 1.2\n",
      "ia\n",
      "Epoch 7/200\n",
      "44681/44681 [==============================] - 6s 145us/step - loss: 1.8978 - val_loss: 2.0458\n",
      "Epoch 8/200\n",
      "44681/44681 [==============================] - 7s 147us/step - loss: 1.8776 - val_loss: 2.0704\n",
      "Epoch 9/200\n",
      "44681/44681 [==============================] - 6s 141us/step - loss: 1.8647 - val_loss: 2.0558\n",
      "Epoch 10/200\n",
      "44681/44681 [==============================] - 7s 147us/step - loss: 1.8532 - val_loss: 2.0796\n",
      "Epoch 11/200\n",
      "44681/44681 [==============================] - 7s 152us/step - loss: 1.8406 - val_loss: 2.0577\n",
      "\n",
      "----- Generating text after Epoch: 10\n",
      "----- Generating with seed: \"l\"\n",
      "----- diversity: 0.2\n",
      "le\n",
      "----- diversity: 0.5\n",
      "le\n",
      "----- diversity: 1.0\n",
      "leah\n",
      "----- diversity: 1.2\n",
      "lettoraticharla\n",
      "Epoch 12/200\n",
      "44681/44681 [==============================] - 9s 192us/step - loss: 1.8337 - val_loss: 2.0730\n",
      "Epoch 13/200\n",
      "44681/44681 [==============================] - 7s 152us/step - loss: 1.8259 - val_loss: 2.0671\n"
     ]
    }
   ],
   "source": [
    "model = Sequential()\n",
    "model.add(LSTM(128, input_shape=(timesteps, vocab_size)))\n",
    "model.add(Dense(vocab_size))\n",
    "model.add(Activation('softmax'))\n",
    "optimizer = Adam(lr=.01, clipvalue=5)\n",
    "model.compile(optimizer, 'categorical_crossentropy')\n",
    "\n",
    "es = EarlyStopping(mode='min', patience=7, min_delta=.001)\n",
    "sampler = SampleNamesFile(timesteps, vocab_size, token_to_index, index_to_token, names_text)\n",
    "checkpoint = ModelCheckpoint('output/names-base-model.hdf5', save_best_only=True)\n",
    "callbacks = [sampler, es, checkpoint]\n",
    "\n",
    "history = model.fit(X, y, validation_split=.2, epochs=200, batch_size=32, callbacks=callbacks)"
   ]
  },
  {
   "cell_type": "code",
   "execution_count": 76,
   "metadata": {},
   "outputs": [],
   "source": [
    "gen = NameGenerator(timesteps, vocab_size, token_to_index, index_to_token, model)"
   ]
  },
  {
   "cell_type": "code",
   "execution_count": 80,
   "metadata": {},
   "outputs": [
    {
     "data": {
      "text/plain": [
       "['reilindie',\n",
       " 'c',\n",
       " 'iaeo',\n",
       " 'rla',\n",
       " 'ye',\n",
       " '',\n",
       " 'vlon',\n",
       " 'i',\n",
       " 'ie',\n",
       " 'tyhahardlairda']"
      ]
     },
     "execution_count": 80,
     "metadata": {},
     "output_type": "execute_result"
    }
   ],
   "source": [
    "gen.generate(10, seed='', diversity=1)"
   ]
  },
  {
   "cell_type": "code",
   "execution_count": null,
   "metadata": {},
   "outputs": [],
   "source": []
  }
 ],
 "metadata": {
  "kernelspec": {
   "display_name": "Python 3",
   "language": "python",
   "name": "python3"
  },
  "language_info": {
   "codemirror_mode": {
    "name": "ipython",
    "version": 3
   },
   "file_extension": ".py",
   "mimetype": "text/x-python",
   "name": "python",
   "nbconvert_exporter": "python",
   "pygments_lexer": "ipython3",
   "version": "3.6.4"
  }
 },
 "nbformat": 4,
 "nbformat_minor": 2
}
