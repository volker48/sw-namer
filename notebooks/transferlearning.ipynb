{
 "cells": [
  {
   "cell_type": "code",
   "execution_count": 23,
   "metadata": {},
   "outputs": [],
   "source": [
    "import pandas\n",
    "import numpy\n",
    "import random\n",
    "import sys\n",
    "\n",
    "from keras.callbacks import EarlyStopping, ModelCheckpoint\n",
    "from keras.models import Sequential, load_model\n",
    "from keras.layers import Dense, Activation, Embedding\n",
    "from keras.layers import LSTM, GRU, Dropout\n",
    "from keras.optimizers import RMSprop, Adam, SGD\n",
    "\n",
    "import matplotlib.pyplot as plt\n",
    "\n",
    "%matplotlib inline"
   ]
  },
  {
   "cell_type": "code",
   "execution_count": 2,
   "metadata": {},
   "outputs": [
    {
     "name": "stdout",
     "output_type": "stream",
     "text": [
      "/Users/mmccurdy/code/starwars-namer\n"
     ]
    }
   ],
   "source": [
    "cd .."
   ]
  },
  {
   "cell_type": "code",
   "execution_count": 3,
   "metadata": {},
   "outputs": [],
   "source": [
    "from swnamer.process import *"
   ]
  },
  {
   "cell_type": "code",
   "execution_count": 4,
   "metadata": {},
   "outputs": [],
   "source": [
    "names = pandas.read_csv('output/names.csv')"
   ]
  },
  {
   "cell_type": "code",
   "execution_count": 5,
   "metadata": {},
   "outputs": [
    {
     "data": {
      "text/html": [
       "<div>\n",
       "<style scoped>\n",
       "    .dataframe tbody tr th:only-of-type {\n",
       "        vertical-align: middle;\n",
       "    }\n",
       "\n",
       "    .dataframe tbody tr th {\n",
       "        vertical-align: top;\n",
       "    }\n",
       "\n",
       "    .dataframe thead th {\n",
       "        text-align: right;\n",
       "    }\n",
       "</style>\n",
       "<table border=\"1\" class=\"dataframe\">\n",
       "  <thead>\n",
       "    <tr style=\"text-align: right;\">\n",
       "      <th></th>\n",
       "      <th>name</th>\n",
       "    </tr>\n",
       "  </thead>\n",
       "  <tbody>\n",
       "    <tr>\n",
       "      <th>7920</th>\n",
       "      <td>^^^robert$$$</td>\n",
       "    </tr>\n",
       "    <tr>\n",
       "      <th>4723</th>\n",
       "      <td>^^^rivi$$$</td>\n",
       "    </tr>\n",
       "    <tr>\n",
       "      <th>1688</th>\n",
       "      <td>^^^corrie$$$</td>\n",
       "    </tr>\n",
       "    <tr>\n",
       "      <th>7477</th>\n",
       "      <td>^^^shara$$$</td>\n",
       "    </tr>\n",
       "    <tr>\n",
       "      <th>5477</th>\n",
       "      <td>^^^avis$$$</td>\n",
       "    </tr>\n",
       "  </tbody>\n",
       "</table>\n",
       "</div>"
      ],
      "text/plain": [
       "              name\n",
       "7920  ^^^robert$$$\n",
       "4723    ^^^rivi$$$\n",
       "1688  ^^^corrie$$$\n",
       "7477   ^^^shara$$$\n",
       "5477    ^^^avis$$$"
      ]
     },
     "execution_count": 5,
     "metadata": {},
     "output_type": "execute_result"
    }
   ],
   "source": [
    "names.sample(5)"
   ]
  },
  {
   "cell_type": "code",
   "execution_count": 6,
   "metadata": {},
   "outputs": [],
   "source": [
    "starwars_names = pandas.read_csv('output/starwars_processed.csv')"
   ]
  },
  {
   "cell_type": "code",
   "execution_count": 7,
   "metadata": {},
   "outputs": [
    {
     "data": {
      "text/html": [
       "<div>\n",
       "<style scoped>\n",
       "    .dataframe tbody tr th:only-of-type {\n",
       "        vertical-align: middle;\n",
       "    }\n",
       "\n",
       "    .dataframe tbody tr th {\n",
       "        vertical-align: top;\n",
       "    }\n",
       "\n",
       "    .dataframe thead th {\n",
       "        text-align: right;\n",
       "    }\n",
       "</style>\n",
       "<table border=\"1\" class=\"dataframe\">\n",
       "  <thead>\n",
       "    <tr style=\"text-align: right;\">\n",
       "      <th></th>\n",
       "      <th>name</th>\n",
       "    </tr>\n",
       "  </thead>\n",
       "  <tbody>\n",
       "    <tr>\n",
       "      <th>699</th>\n",
       "      <td>^^^ewok$$$</td>\n",
       "    </tr>\n",
       "    <tr>\n",
       "      <th>691</th>\n",
       "      <td>^^^gamorrean guards$$$</td>\n",
       "    </tr>\n",
       "    <tr>\n",
       "      <th>410</th>\n",
       "      <td>^^^dexter jettster$$$</td>\n",
       "    </tr>\n",
       "    <tr>\n",
       "      <th>692</th>\n",
       "      <td>^^^yuzzum$$$</td>\n",
       "    </tr>\n",
       "    <tr>\n",
       "      <th>265</th>\n",
       "      <td>^^^cassian andor$$$</td>\n",
       "    </tr>\n",
       "  </tbody>\n",
       "</table>\n",
       "</div>"
      ],
      "text/plain": [
       "                       name\n",
       "699              ^^^ewok$$$\n",
       "691  ^^^gamorrean guards$$$\n",
       "410   ^^^dexter jettster$$$\n",
       "692            ^^^yuzzum$$$\n",
       "265     ^^^cassian andor$$$"
      ]
     },
     "execution_count": 7,
     "metadata": {},
     "output_type": "execute_result"
    }
   ],
   "source": [
    "starwars_names.sample(5)"
   ]
  },
  {
   "cell_type": "code",
   "execution_count": 8,
   "metadata": {},
   "outputs": [],
   "source": [
    "timesteps = 3"
   ]
  },
  {
   "cell_type": "code",
   "execution_count": 9,
   "metadata": {},
   "outputs": [],
   "source": [
    "combined = pandas.concat((names, starwars_names), axis=0)"
   ]
  },
  {
   "cell_type": "code",
   "execution_count": 10,
   "metadata": {},
   "outputs": [],
   "source": [
    "token_to_index, index_to_token = create_indices(combined, 'name')"
   ]
  },
  {
   "cell_type": "code",
   "execution_count": 11,
   "metadata": {},
   "outputs": [],
   "source": [
    "chars = token_to_index.keys()"
   ]
  },
  {
   "cell_type": "code",
   "execution_count": 12,
   "metadata": {},
   "outputs": [
    {
     "data": {
      "text/plain": [
       "dict_keys(['^', 'l', 'a', 'u', 'r', 'i', 'n', 'e', '$', 'b', 't', 's', 'd', 'o', 'c', 'm', 'p', 'g', 'k', 'y', 'j', 'v', 'h', '-', 'w', 'f', 'q', 'x', 'z', ' ', \"'\", '8', '4', '3', '9', '1', '5', '/', '2', '0', 'é', '.', '7', 'î', '\"', '6', 'á', '\\n'])"
      ]
     },
     "execution_count": 12,
     "metadata": {},
     "output_type": "execute_result"
    }
   ],
   "source": [
    "chars"
   ]
  },
  {
   "cell_type": "code",
   "execution_count": 13,
   "metadata": {},
   "outputs": [
    {
     "data": {
      "text/plain": [
       "48"
      ]
     },
     "execution_count": 13,
     "metadata": {},
     "output_type": "execute_result"
    }
   ],
   "source": [
    "vocab_size = len(chars)\n",
    "vocab_size"
   ]
  },
  {
   "cell_type": "code",
   "execution_count": 14,
   "metadata": {},
   "outputs": [],
   "source": [
    "chunks, next_char = chunk_names(names, 'name', timesteps)"
   ]
  },
  {
   "cell_type": "code",
   "execution_count": 15,
   "metadata": {},
   "outputs": [],
   "source": [
    "X, y = create_training_vectors(chunks, next_char, token_to_index, timesteps, vocab_size)"
   ]
  },
  {
   "cell_type": "code",
   "execution_count": 28,
   "metadata": {},
   "outputs": [
    {
     "name": "stdout",
     "output_type": "stream",
     "text": [
      "_________________________________________________________________\n",
      "Layer (type)                 Output Shape              Param #   \n",
      "=================================================================\n",
      "lstm_3 (LSTM)                (None, 3, 64)             28928     \n",
      "_________________________________________________________________\n",
      "lstm_4 (LSTM)                (None, 64)                33024     \n",
      "_________________________________________________________________\n",
      "dense_2 (Dense)              (None, 48)                3120      \n",
      "_________________________________________________________________\n",
      "activation_2 (Activation)    (None, 48)                0         \n",
      "=================================================================\n",
      "Total params: 65,072\n",
      "Trainable params: 65,072\n",
      "Non-trainable params: 0\n",
      "_________________________________________________________________\n"
     ]
    }
   ],
   "source": [
    "model = Sequential()\n",
    "model.add(LSTM(64, input_shape=(timesteps, vocab_size), return_sequences=True))\n",
    "model.add(LSTM(64, input_shape=(timesteps, vocab_size), return_sequences=False))\n",
    "model.add(Dense(vocab_size))\n",
    "model.add(Activation('softmax'))\n",
    "optimizer = SGD(lr=.01, momentum=.99, nesterov=True)\n",
    "model.compile(optimizer, 'categorical_crossentropy')\n",
    "model.summary()"
   ]
  },
  {
   "cell_type": "code",
   "execution_count": 29,
   "metadata": {},
   "outputs": [],
   "source": [
    "sampler = SampleNames(chunks, timesteps, vocab_size, token_to_index, index_to_token)\n",
    "earlystopping = EarlyStopping(mode='min', patience=7, min_delta=.001)\n",
    "checkpoint = ModelCheckpoint('output/names.{epoch:02d}-{val_loss:.2f}.hdf5', save_best_only=True)\n",
    "callbacks = [sampler, earlystopping, checkpoint]"
   ]
  },
  {
   "cell_type": "code",
   "execution_count": 30,
   "metadata": {
    "scrolled": false
   },
   "outputs": [
    {
     "name": "stdout",
     "output_type": "stream",
     "text": [
      "Train on 63744 samples, validate on 15937 samples\n",
      "Epoch 1/100\n",
      "63744/63744 [==============================] - 13s 203us/step - loss: 1.9677 - val_loss: 1.7414\n",
      "\n",
      "----- Generating text after Epoch: 0\n",
      "----- diversity: 0.2\n",
      "----- Generating with seed: \"^^^\"\n",
      "^^^carie$$$\n",
      "----- diversity: 0.5\n",
      "----- Generating with seed: \"^^^\"\n",
      "^^^cin$$$\n",
      "----- diversity: 1.0\n",
      "----- Generating with seed: \"^^^\"\n",
      "^^^bviedas$$$\n",
      "----- diversity: 1.2\n",
      "----- Generating with seed: \"^^^\"\n",
      "^^^fi4seohunshlayl$$$\n",
      "Epoch 2/100\n",
      "63744/63744 [==============================] - 12s 191us/step - loss: 1.6846 - val_loss: 1.6489\n",
      "Epoch 3/100\n",
      "63744/63744 [==============================] - 12s 189us/step - loss: 1.6184 - val_loss: 1.6070\n",
      "Epoch 4/100\n",
      "63744/63744 [==============================] - 12s 195us/step - loss: 1.5804 - val_loss: 1.5833\n",
      "Epoch 5/100\n",
      "63744/63744 [==============================] - 12s 194us/step - loss: 1.5510 - val_loss: 1.5626\n",
      "Epoch 6/100\n",
      "63744/63744 [==============================] - 12s 189us/step - loss: 1.5231 - val_loss: 1.5312\n",
      "Epoch 7/100\n",
      "63744/63744 [==============================] - 12s 191us/step - loss: 1.5006 - val_loss: 1.5168\n",
      "Epoch 8/100\n",
      "63744/63744 [==============================] - 12s 192us/step - loss: 1.4787 - val_loss: 1.5057\n",
      "Epoch 9/100\n",
      "63744/63744 [==============================] - 12s 191us/step - loss: 1.4618 - val_loss: 1.5019\n",
      "Epoch 10/100\n",
      "63744/63744 [==============================] - 12s 194us/step - loss: 1.4440 - val_loss: 1.4853\n",
      "Epoch 11/100\n",
      "63744/63744 [==============================] - 12s 193us/step - loss: 1.4280 - val_loss: 1.4843\n",
      "\n",
      "----- Generating text after Epoch: 10\n",
      "----- diversity: 0.2\n",
      "----- Generating with seed: \"^el\"\n",
      "^ell$$$\n",
      "----- diversity: 0.5\n",
      "----- Generating with seed: \"^el\"\n",
      "^eline$$$\n",
      "----- diversity: 1.0\n",
      "----- Generating with seed: \"^el\"\n",
      "^elina$$$\n",
      "----- diversity: 1.2\n",
      "----- Generating with seed: \"^el\"\n",
      "^ela$$$\n",
      "Epoch 12/100\n",
      "63744/63744 [==============================] - 12s 193us/step - loss: 1.4181 - val_loss: 1.4685\n",
      "Epoch 13/100\n",
      "63744/63744 [==============================] - 12s 193us/step - loss: 1.4045 - val_loss: 1.4636\n",
      "Epoch 14/100\n",
      "63744/63744 [==============================] - 13s 198us/step - loss: 1.3932 - val_loss: 1.4582\n",
      "Epoch 15/100\n",
      "63744/63744 [==============================] - 12s 194us/step - loss: 1.3830 - val_loss: 1.4749\n",
      "Epoch 16/100\n",
      "63744/63744 [==============================] - 12s 194us/step - loss: 1.3745 - val_loss: 1.4507\n",
      "Epoch 17/100\n",
      "63744/63744 [==============================] - 12s 192us/step - loss: 1.3668 - val_loss: 1.4484\n",
      "Epoch 18/100\n",
      "63744/63744 [==============================] - 12s 194us/step - loss: 1.3597 - val_loss: 1.4517\n",
      "Epoch 19/100\n",
      "63744/63744 [==============================] - 12s 194us/step - loss: 1.3509 - val_loss: 1.4439\n",
      "Epoch 20/100\n",
      "63744/63744 [==============================] - 12s 194us/step - loss: 1.3462 - val_loss: 1.4439\n",
      "Epoch 21/100\n",
      "63744/63744 [==============================] - 12s 194us/step - loss: 1.3392 - val_loss: 1.4394\n",
      "\n",
      "----- Generating text after Epoch: 20\n",
      "----- diversity: 0.2\n",
      "----- Generating with seed: \"^st\"\n",
      "^ster$$$\n",
      "----- diversity: 0.5\n",
      "----- Generating with seed: \"^st\"\n",
      "^stormine$$$\n",
      "----- diversity: 1.0\n",
      "----- Generating with seed: \"^st\"\n",
      "^steriokhlindie$$$\n",
      "----- diversity: 1.2\n",
      "----- Generating with seed: \"^st\"\n",
      "^stapser$$$\n",
      "Epoch 22/100\n",
      "63744/63744 [==============================] - 12s 194us/step - loss: 1.3347 - val_loss: 1.4477\n",
      "Epoch 23/100\n",
      "63744/63744 [==============================] - 12s 196us/step - loss: 1.3290 - val_loss: 1.4449\n",
      "Epoch 24/100\n",
      "63744/63744 [==============================] - 13s 198us/step - loss: 1.3261 - val_loss: 1.4441\n",
      "Epoch 25/100\n",
      "63744/63744 [==============================] - 13s 201us/step - loss: 1.3220 - val_loss: 1.4523\n",
      "Epoch 26/100\n",
      "63744/63744 [==============================] - 13s 202us/step - loss: 1.3156 - val_loss: 1.4550\n",
      "Epoch 27/100\n",
      "63744/63744 [==============================] - 12s 196us/step - loss: 1.3130 - val_loss: 1.4430\n",
      "Epoch 28/100\n",
      "63744/63744 [==============================] - 13s 199us/step - loss: 1.3091 - val_loss: 1.4452\n"
     ]
    }
   ],
   "source": [
    "history = model.fit(X, y, epochs=100, batch_size=32, validation_split=.2, callbacks=callbacks)"
   ]
  },
  {
   "cell_type": "code",
   "execution_count": 31,
   "metadata": {},
   "outputs": [
    {
     "data": {
      "image/png": "[encoded data removed]",
      "text/plain": [
       "<Figure size 432x288 with 1 Axes>"
      ]
     },
     "metadata": {},
     "output_type": "display_data"
    }
   ],
   "source": [
    "plt.plot(history.history['loss'])\n",
    "plt.plot(history.history['val_loss'])\n",
    "plt.title('model loss')\n",
    "plt.ylabel('categorical cross entropy')\n",
    "plt.xlabel('epoch')\n",
    "plt.legend(['train', 'test'], loc='upper right')\n",
    "plt.show()"
   ]
  },
  {
   "cell_type": "code",
   "execution_count": 33,
   "metadata": {},
   "outputs": [
    {
     "name": "stdout",
     "output_type": "stream",
     "text": [
      "_________________________________________________________________\n",
      "Layer (type)                 Output Shape              Param #   \n",
      "=================================================================\n",
      "lstm_7 (LSTM)                (None, 3, 80)             41280     \n",
      "_________________________________________________________________\n",
      "dropout_3 (Dropout)          (None, 3, 80)             0         \n",
      "_________________________________________________________________\n",
      "lstm_8 (LSTM)                (None, 80)                51520     \n",
      "_________________________________________________________________\n",
      "dropout_4 (Dropout)          (None, 80)                0         \n",
      "_________________________________________________________________\n",
      "dense_4 (Dense)              (None, 48)                3888      \n",
      "_________________________________________________________________\n",
      "activation_4 (Activation)    (None, 48)                0         \n",
      "=================================================================\n",
      "Total params: 96,688\n",
      "Trainable params: 96,688\n",
      "Non-trainable params: 0\n",
      "_________________________________________________________________\n"
     ]
    }
   ],
   "source": [
    "model = Sequential()\n",
    "model.add(LSTM(80, input_shape=(timesteps, vocab_size), return_sequences=True))\n",
    "model.add(Dropout(.25))\n",
    "model.add(LSTM(80, input_shape=(timesteps, vocab_size), return_sequences=False))\n",
    "model.add(Dropout(.25))\n",
    "model.add(Dense(vocab_size))\n",
    "model.add(Activation('softmax'))\n",
    "optimizer = SGD(lr=.01, momentum=.99, nesterov=True, clipvalue=1)\n",
    "model.compile(optimizer, 'categorical_crossentropy')\n",
    "model.summary()"
   ]
  },
  {
   "cell_type": "code",
   "execution_count": 34,
   "metadata": {},
   "outputs": [],
   "source": [
    "sampler = SampleNames(chunks, timesteps, vocab_size, token_to_index, index_to_token)\n",
    "earlystopping = EarlyStopping(mode='min', patience=7, min_delta=.001)\n",
    "checkpoint = ModelCheckpoint('output/names.{epoch:02d}-{val_loss:.2f}.hdf5')\n",
    "callbacks = [sampler, earlystopping, checkpoint]"
   ]
  },
  {
   "cell_type": "code",
   "execution_count": 35,
   "metadata": {
    "scrolled": true
   },
   "outputs": [
    {
     "name": "stdout",
     "output_type": "stream",
     "text": [
      "Train on 63744 samples, validate on 15937 samples\n",
      "Epoch 1/100\n",
      "63744/63744 [==============================] - 10s 162us/step - loss: 2.1291 - val_loss: 1.8797\n",
      "\n",
      "----- Generating text after Epoch: 0\n",
      "----- diversity: 0.2\n",
      "----- Generating with seed: \"bir\"\n",
      "bire$$$\n",
      "----- diversity: 0.5\n",
      "----- Generating with seed: \"bir\"\n",
      "birn$$$\n",
      "----- diversity: 1.0\n",
      "----- Generating with seed: \"bir\"\n",
      "biryl$$$\n",
      "----- diversity: 1.2\n",
      "----- Generating with seed: \"bir\"\n",
      "bire$$$\n",
      "Epoch 2/100\n",
      "63744/63744 [==============================] - 8s 133us/step - loss: 1.8249 - val_loss: 1.7510\n",
      "Epoch 3/100\n",
      "63744/63744 [==============================] - 9s 141us/step - loss: 1.7296 - val_loss: 1.6859\n",
      "Epoch 4/100\n",
      "63744/63744 [==============================] - 9s 144us/step - loss: 1.6885 - val_loss: 1.6669\n",
      "Epoch 5/100\n",
      "63744/63744 [==============================] - 9s 139us/step - loss: 1.6575 - val_loss: 1.6295\n",
      "Epoch 6/100\n",
      "63744/63744 [==============================] - 9s 137us/step - loss: 1.6297 - val_loss: 1.6023\n",
      "Epoch 7/100\n",
      "63744/63744 [==============================] - 8s 123us/step - loss: 1.6111 - val_loss: 1.5919\n",
      "Epoch 8/100\n",
      "63744/63744 [==============================] - 8s 132us/step - loss: 1.5978 - val_loss: 1.5759\n",
      "Epoch 9/100\n",
      "63744/63744 [==============================] - 9s 141us/step - loss: 1.5830 - val_loss: 1.5628\n",
      "Epoch 10/100\n",
      "63744/63744 [==============================] - 9s 133us/step - loss: 1.5710 - val_loss: 1.5523\n",
      "Epoch 11/100\n",
      "63744/63744 [==============================] - 8s 132us/step - loss: 1.5576 - val_loss: 1.5414\n",
      "\n",
      "----- Generating text after Epoch: 10\n",
      "----- diversity: 0.2\n",
      "----- Generating with seed: \"olp\"\n",
      "olph$$$\n",
      "----- diversity: 0.5\n",
      "----- Generating with seed: \"olp\"\n",
      "olph$$$\n",
      "----- diversity: 1.0\n",
      "----- Generating with seed: \"olp\"\n",
      "olpe$$$\n",
      "----- diversity: 1.2\n",
      "----- Generating with seed: \"olp\"\n",
      "olpiapithertyn$$$\n",
      "Epoch 12/100\n",
      "63744/63744 [==============================] - 8s 129us/step - loss: 1.5509 - val_loss: 1.5344\n",
      "Epoch 13/100\n",
      "63744/63744 [==============================] - 9s 148us/step - loss: 1.5424 - val_loss: 1.5205\n",
      "Epoch 14/100\n",
      "63744/63744 [==============================] - 9s 137us/step - loss: 1.5319 - val_loss: 1.5076\n",
      "Epoch 15/100\n",
      "63744/63744 [==============================] - 8s 126us/step - loss: 1.5223 - val_loss: 1.5055\n",
      "Epoch 16/100\n",
      "63744/63744 [==============================] - 8s 122us/step - loss: 1.5154 - val_loss: 1.4924\n",
      "Epoch 17/100\n",
      "63744/63744 [==============================] - 10s 149us/step - loss: 1.5061 - val_loss: 1.4885\n",
      "Epoch 18/100\n",
      "63744/63744 [==============================] - 9s 141us/step - loss: 1.5001 - val_loss: 1.4863\n",
      "Epoch 19/100\n",
      "63744/63744 [==============================] - 10s 160us/step - loss: 1.4955 - val_loss: 1.4832\n",
      "Epoch 20/100\n",
      "63744/63744 [==============================] - 9s 148us/step - loss: 1.4848 - val_loss: 1.4739\n",
      "Epoch 21/100\n",
      "63744/63744 [==============================] - 10s 155us/step - loss: 1.4819 - val_loss: 1.4706\n",
      "\n",
      "----- Generating text after Epoch: 20\n",
      "----- diversity: 0.2\n",
      "----- Generating with seed: \"ly$\"\n",
      "ly$$$\n",
      "----- diversity: 0.5\n",
      "----- Generating with seed: \"ly$\"\n",
      "ly$$$\n",
      "----- diversity: 1.0\n",
      "----- Generating with seed: \"ly$\"\n",
      "ly$$$\n",
      "----- diversity: 1.2\n",
      "----- Generating with seed: \"ly$\"\n",
      "ly$$$\n",
      "Epoch 22/100\n",
      "63744/63744 [==============================] - 10s 155us/step - loss: 1.4744 - val_loss: 1.4628\n",
      "Epoch 23/100\n",
      "63744/63744 [==============================] - 9s 144us/step - loss: 1.4699 - val_loss: 1.4622\n",
      "Epoch 24/100\n",
      "63744/63744 [==============================] - 9s 146us/step - loss: 1.4669 - val_loss: 1.4589\n",
      "Epoch 25/100\n",
      "63744/63744 [==============================] - 9s 145us/step - loss: 1.4594 - val_loss: 1.4507\n",
      "Epoch 26/100\n",
      "63744/63744 [==============================] - 9s 144us/step - loss: 1.4551 - val_loss: 1.4584\n",
      "Epoch 27/100\n",
      "63744/63744 [==============================] - 9s 144us/step - loss: 1.4517 - val_loss: 1.4448\n",
      "Epoch 28/100\n",
      "63744/63744 [==============================] - 9s 142us/step - loss: 1.4488 - val_loss: 1.4437\n",
      "Epoch 29/100\n",
      "63744/63744 [==============================] - 9s 143us/step - loss: 1.4433 - val_loss: 1.4447\n",
      "Epoch 30/100\n",
      "63744/63744 [==============================] - 9s 147us/step - loss: 1.4405 - val_loss: 1.4409\n",
      "Epoch 31/100\n",
      "63744/63744 [==============================] - 9s 146us/step - loss: 1.4371 - val_loss: 1.4367\n",
      "\n",
      "----- Generating text after Epoch: 30\n",
      "----- diversity: 0.2\n",
      "----- Generating with seed: \"eld\"\n",
      "elda$$$\n",
      "----- diversity: 0.5\n",
      "----- Generating with seed: \"eld\"\n",
      "eld$$$\n",
      "----- diversity: 1.0\n",
      "----- Generating with seed: \"eld\"\n",
      "elde$$$\n",
      "----- diversity: 1.2\n",
      "----- Generating with seed: \"eld\"\n",
      "eld$$$\n",
      "Epoch 32/100\n",
      "63744/63744 [==============================] - 10s 149us/step - loss: 1.4326 - val_loss: 1.4340\n",
      "Epoch 33/100\n",
      "63744/63744 [==============================] - 10s 153us/step - loss: 1.4291 - val_loss: 1.4345\n",
      "Epoch 34/100\n",
      "63744/63744 [==============================] - 10s 150us/step - loss: 1.4283 - val_loss: 1.4326\n",
      "Epoch 35/100\n",
      "63744/63744 [==============================] - 10s 151us/step - loss: 1.4205 - val_loss: 1.4326\n",
      "Epoch 36/100\n",
      "63744/63744 [==============================] - 10s 150us/step - loss: 1.4195 - val_loss: 1.4299\n",
      "Epoch 37/100\n",
      "63744/63744 [==============================] - 10s 151us/step - loss: 1.4184 - val_loss: 1.4299\n",
      "Epoch 38/100\n",
      "63744/63744 [==============================] - 10s 150us/step - loss: 1.4132 - val_loss: 1.4290\n",
      "Epoch 39/100\n",
      "63744/63744 [==============================] - 10s 150us/step - loss: 1.4135 - val_loss: 1.4246\n",
      "Epoch 40/100\n",
      "63744/63744 [==============================] - 10s 153us/step - loss: 1.4088 - val_loss: 1.4225\n",
      "Epoch 41/100\n",
      "63744/63744 [==============================] - 10s 151us/step - loss: 1.4079 - val_loss: 1.4292\n",
      "\n",
      "----- Generating text after Epoch: 40\n",
      "----- diversity: 0.2\n",
      "----- Generating with seed: \"^^c\"\n",
      "^^carlen$$$\n",
      "----- diversity: 0.5\n",
      "----- Generating with seed: \"^^c\"\n",
      "^^carlin$$$\n",
      "----- diversity: 1.0\n",
      "----- Generating with seed: \"^^c\"\n",
      "^^carintalin$$$\n",
      "----- diversity: 1.2\n",
      "----- Generating with seed: \"^^c\"\n",
      "^^centtill$$$\n",
      "Epoch 42/100\n",
      "63744/63744 [==============================] - 10s 153us/step - loss: 1.4029 - val_loss: 1.4223\n",
      "Epoch 43/100\n",
      "63744/63744 [==============================] - 10s 152us/step - loss: 1.4054 - val_loss: 1.4221\n",
      "Epoch 44/100\n",
      "63744/63744 [==============================] - 10s 152us/step - loss: 1.4025 - val_loss: 1.4238\n",
      "Epoch 45/100\n",
      "63744/63744 [==============================] - 10s 151us/step - loss: 1.4000 - val_loss: 1.4200\n",
      "Epoch 46/100\n",
      "63744/63744 [==============================] - 10s 152us/step - loss: 1.3950 - val_loss: 1.4192\n",
      "Epoch 47/100\n",
      "63744/63744 [==============================] - 10s 152us/step - loss: 1.3927 - val_loss: 1.4217\n",
      "Epoch 48/100\n",
      "63744/63744 [==============================] - 10s 152us/step - loss: 1.3917 - val_loss: 1.4188\n",
      "Epoch 49/100\n",
      "63744/63744 [==============================] - 10s 152us/step - loss: 1.3886 - val_loss: 1.4147\n",
      "Epoch 50/100\n",
      "63744/63744 [==============================] - 10s 154us/step - loss: 1.3900 - val_loss: 1.4126\n",
      "Epoch 51/100\n",
      "63744/63744 [==============================] - 10s 154us/step - loss: 1.3874 - val_loss: 1.4176\n",
      "\n",
      "----- Generating text after Epoch: 50\n",
      "----- diversity: 0.2\n",
      "----- Generating with seed: \"^^^\"\n",
      "^^^carlene$$$\n",
      "----- diversity: 0.5\n",
      "----- Generating with seed: \"^^^\"\n",
      "^^^brita$$$\n",
      "----- diversity: 1.0\n",
      "----- Generating with seed: \"^^^\"\n",
      "^^^nee$$$\n",
      "----- diversity: 1.2\n",
      "----- Generating with seed: \"^^^\"\n",
      "^^^carline$$$\n",
      "Epoch 52/100\n",
      "63744/63744 [==============================] - 10s 152us/step - loss: 1.3863 - val_loss: 1.4159\n",
      "Epoch 53/100\n",
      "63744/63744 [==============================] - 10s 154us/step - loss: 1.3849 - val_loss: 1.4181\n",
      "Epoch 54/100\n",
      "63744/63744 [==============================] - 10s 156us/step - loss: 1.3835 - val_loss: 1.4115\n",
      "Epoch 55/100\n",
      "63744/63744 [==============================] - 11s 178us/step - loss: 1.3790 - val_loss: 1.4159\n",
      "Epoch 56/100\n",
      "63744/63744 [==============================] - 9s 147us/step - loss: 1.3801 - val_loss: 1.4141\n",
      "Epoch 57/100\n",
      "63744/63744 [==============================] - 9s 145us/step - loss: 1.3769 - val_loss: 1.4153\n",
      "Epoch 58/100\n",
      "63744/63744 [==============================] - 9s 144us/step - loss: 1.3768 - val_loss: 1.4107\n",
      "Epoch 59/100\n",
      "63744/63744 [==============================] - 8s 130us/step - loss: 1.3751 - val_loss: 1.4127\n",
      "Epoch 60/100\n",
      "63744/63744 [==============================] - 8s 132us/step - loss: 1.3740 - val_loss: 1.4123\n",
      "Epoch 61/100\n",
      "63744/63744 [==============================] - 8s 130us/step - loss: 1.3700 - val_loss: 1.4144\n",
      "\n",
      "----- Generating text after Epoch: 60\n",
      "----- diversity: 0.2\n",
      "----- Generating with seed: \"$$$\"\n",
      "$$$\n",
      "----- diversity: 0.5\n",
      "----- Generating with seed: \"$$$\"\n",
      "$$$\n",
      "----- diversity: 1.0\n",
      "----- Generating with seed: \"$$$\"\n",
      "$$$\n",
      "----- diversity: 1.2\n",
      "----- Generating with seed: \"$$$\"\n",
      "$$$\n"
     ]
    }
   ],
   "source": [
    "history = model.fit(X, y, epochs=100, batch_size=64, validation_split=.2, callbacks=callbacks)"
   ]
  },
  {
   "cell_type": "code",
   "execution_count": 36,
   "metadata": {},
   "outputs": [
    {
     "data": {
      "image/png": "[encoded data removed]",
      "text/plain": [
       "<Figure size 432x288 with 1 Axes>"
      ]
     },
     "metadata": {},
     "output_type": "display_data"
    }
   ],
   "source": [
    "plt.plot(history.history['loss'])\n",
    "plt.plot(history.history['val_loss'])\n",
    "plt.title('model loss')\n",
    "plt.ylabel('categorical cross entropy')\n",
    "plt.xlabel('epoch')\n",
    "plt.legend(['train', 'test'], loc='upper right')\n",
    "plt.show()"
   ]
  },
  {
   "cell_type": "code",
   "execution_count": 63,
   "metadata": {},
   "outputs": [
    {
     "data": {
      "text/plain": [
       "(57, 1.41070447684217)"
      ]
     },
     "execution_count": 63,
     "metadata": {},
     "output_type": "execute_result"
    }
   ],
   "source": [
    "min_index = numpy.argmin(history.history['val_loss'])\n",
    "min_index, history.history['val_loss'][min_index]"
   ]
  },
  {
   "cell_type": "code",
   "execution_count": 64,
   "metadata": {},
   "outputs": [],
   "source": [
    "model = load_model('output/names.40-1.42.hdf5')"
   ]
  },
  {
   "cell_type": "code",
   "execution_count": 65,
   "metadata": {},
   "outputs": [
    {
     "data": {
      "text/plain": [
       "[<keras.layers.recurrent.LSTM at 0x1256c60b8>,\n",
       " <keras.layers.core.Dropout at 0x1256c6f60>,\n",
       " <keras.layers.recurrent.LSTM at 0x1256c6eb8>,\n",
       " <keras.layers.core.Dropout at 0x1256c6ef0>,\n",
       " <keras.layers.core.Dense at 0x123b1dd68>,\n",
       " <keras.layers.core.Activation at 0x123cc84a8>]"
      ]
     },
     "execution_count": 65,
     "metadata": {},
     "output_type": "execute_result"
    }
   ],
   "source": [
    "model.layers"
   ]
  },
  {
   "cell_type": "code",
   "execution_count": 66,
   "metadata": {},
   "outputs": [],
   "source": [
    "gen = NameGenerator(timesteps, vocab_size, token_to_index, index_to_token, model)"
   ]
  },
  {
   "cell_type": "code",
   "execution_count": 72,
   "metadata": {},
   "outputs": [
    {
     "data": {
      "text/plain": [
       "['freen', 'andalareen', 'sebani', 'jane', 'stee']"
      ]
     },
     "execution_count": 72,
     "metadata": {},
     "output_type": "execute_result"
    }
   ],
   "source": [
    "gen.generate(seed='^^^')"
   ]
  },
  {
   "cell_type": "markdown",
   "metadata": {},
   "source": [
    "## Freeze first two layers"
   ]
  },
  {
   "cell_type": "code",
   "execution_count": 73,
   "metadata": {},
   "outputs": [],
   "source": [
    "for layer in model.layers[:2]:\n",
    "    layer.trainable = False"
   ]
  },
  {
   "cell_type": "code",
   "execution_count": 74,
   "metadata": {},
   "outputs": [
    {
     "name": "stdout",
     "output_type": "stream",
     "text": [
      "_________________________________________________________________\n",
      "Layer (type)                 Output Shape              Param #   \n",
      "=================================================================\n",
      "lstm_7 (LSTM)                (None, 3, 80)             41280     \n",
      "_________________________________________________________________\n",
      "dropout_3 (Dropout)          (None, 3, 80)             0         \n",
      "_________________________________________________________________\n",
      "lstm_8 (LSTM)                (None, 80)                51520     \n",
      "_________________________________________________________________\n",
      "dropout_4 (Dropout)          (None, 80)                0         \n",
      "_________________________________________________________________\n",
      "dense_4 (Dense)              (None, 48)                3888      \n",
      "_________________________________________________________________\n",
      "activation_4 (Activation)    (None, 48)                0         \n",
      "=================================================================\n",
      "Total params: 96,688\n",
      "Trainable params: 55,408\n",
      "Non-trainable params: 41,280\n",
      "_________________________________________________________________\n"
     ]
    }
   ],
   "source": [
    "optimizer = SGD(lr=.01, momentum=.99, nesterov=True)\n",
    "model.compile(optimizer, 'categorical_crossentropy')\n",
    "model.summary()"
   ]
  },
  {
   "cell_type": "code",
   "execution_count": 75,
   "metadata": {},
   "outputs": [],
   "source": [
    "starwars_chunks, starwars_next_char = chunk_names(starwars_names, 'name', timesteps)"
   ]
  },
  {
   "cell_type": "code",
   "execution_count": 76,
   "metadata": {},
   "outputs": [],
   "source": [
    "X_sw, y_sw = create_training_vectors(starwars_chunks, starwars_next_char, token_to_index, timesteps, vocab_size)"
   ]
  },
  {
   "cell_type": "code",
   "execution_count": 77,
   "metadata": {},
   "outputs": [],
   "source": [
    "sampler = SampleNames(starwars_chunks, timesteps, vocab_size, token_to_index, index_to_token)\n",
    "earlystopping = EarlyStopping(mode='min', patience=10, min_delta=.001)\n",
    "checkpoint = ModelCheckpoint('output/starwars-transfer.{epoch:02d}-{val_loss:.2f}.hdf5')\n",
    "callbacks = [sampler, earlystopping, checkpoint]"
   ]
  },
  {
   "cell_type": "code",
   "execution_count": 78,
   "metadata": {},
   "outputs": [
    {
     "name": "stdout",
     "output_type": "stream",
     "text": [
      "Train on 10233 samples, validate on 1137 samples\n",
      "Epoch 1/100\n",
      "10233/10233 [==============================] - 3s 336us/step - loss: 2.4759 - val_loss: 2.2370\n",
      "\n",
      "----- Generating text after Epoch: 0\n",
      "----- diversity: 0.2\n",
      "----- Generating with seed: \"^ew\"\n",
      "^ewandanan alana$$$\n",
      "----- diversity: 0.5\n",
      "----- Generating with seed: \"^ew\"\n",
      "^ewell$$$\n",
      "----- diversity: 1.0\n",
      "----- Generating with seed: \"^ew\"\n",
      "^ewdudcarhydetmlaeslomei tonggana-spenrowlinedo lan k\n",
      "----- diversity: 1.2\n",
      "----- Generating with seed: \"^ew\"\n",
      "^ewinyranlentirfabmoxrarineshtynwhuk$$$\n",
      "Epoch 2/100\n",
      "10233/10233 [==============================] - 2s 182us/step - loss: 2.1972 - val_loss: 2.1722\n",
      "Epoch 3/100\n",
      "10233/10233 [==============================] - 2s 193us/step - loss: 2.1354 - val_loss: 2.1421\n",
      "Epoch 4/100\n",
      "10233/10233 [==============================] - 2s 207us/step - loss: 2.0969 - val_loss: 2.1141\n",
      "Epoch 5/100\n",
      "10233/10233 [==============================] - 2s 175us/step - loss: 2.0557 - val_loss: 2.0997\n",
      "Epoch 6/100\n",
      "10233/10233 [==============================] - 2s 168us/step - loss: 2.0274 - val_loss: 2.0807\n",
      "Epoch 7/100\n",
      "10233/10233 [==============================] - 2s 173us/step - loss: 2.0058 - val_loss: 2.0783\n",
      "Epoch 8/100\n",
      "10233/10233 [==============================] - 2s 199us/step - loss: 1.9727 - val_loss: 2.0685\n",
      "Epoch 9/100\n",
      "10233/10233 [==============================] - 2s 184us/step - loss: 1.9676 - val_loss: 2.0686\n",
      "Epoch 10/100\n",
      "10233/10233 [==============================] - 2s 221us/step - loss: 1.9537 - val_loss: 2.0549\n",
      "Epoch 11/100\n",
      "10233/10233 [==============================] - 2s 208us/step - loss: 1.9334 - val_loss: 2.0584\n",
      "\n",
      "----- Generating text after Epoch: 10\n",
      "----- diversity: 0.2\n",
      "----- Generating with seed: \"lla\"\n",
      "lla$$$\n",
      "----- diversity: 0.5\n",
      "----- Generating with seed: \"lla\"\n",
      "llarth brook s$$$\n",
      "----- diversity: 1.0\n",
      "----- Generating with seed: \"lla\"\n",
      "llarr$$$\n",
      "----- diversity: 1.2\n",
      "----- Generating with seed: \"lla\"\n",
      "lla  4cress$$$\n",
      "Epoch 12/100\n",
      "10233/10233 [==============================] - 2s 200us/step - loss: 1.9150 - val_loss: 2.0453\n",
      "Epoch 13/100\n",
      "10233/10233 [==============================] - 2s 236us/step - loss: 1.8967 - val_loss: 2.0475\n",
      "Epoch 14/100\n",
      "10233/10233 [==============================] - 2s 224us/step - loss: 1.8879 - val_loss: 2.0392\n",
      "Epoch 15/100\n",
      "10233/10233 [==============================] - 2s 191us/step - loss: 1.8647 - val_loss: 2.0318\n",
      "Epoch 16/100\n",
      "10233/10233 [==============================] - 2s 204us/step - loss: 1.8515 - val_loss: 2.0360\n",
      "Epoch 17/100\n",
      "10233/10233 [==============================] - 2s 197us/step - loss: 1.8449 - val_loss: 2.0374\n",
      "Epoch 18/100\n",
      "10233/10233 [==============================] - 2s 194us/step - loss: 1.8345 - val_loss: 2.0430\n",
      "Epoch 19/100\n",
      "10233/10233 [==============================] - 2s 210us/step - loss: 1.8181 - val_loss: 2.0271\n",
      "Epoch 20/100\n",
      "10233/10233 [==============================] - 2s 204us/step - loss: 1.8146 - val_loss: 2.0406\n",
      "Epoch 21/100\n",
      "10233/10233 [==============================] - 2s 187us/step - loss: 1.8068 - val_loss: 2.0335\n",
      "\n",
      "----- Generating text after Epoch: 20\n",
      "----- diversity: 0.2\n",
      "----- Generating with seed: \"e$$\"\n",
      "e$$$\n",
      "----- diversity: 0.5\n",
      "----- Generating with seed: \"e$$\"\n",
      "e$$$\n",
      "----- diversity: 1.0\n",
      "----- Generating with seed: \"e$$\"\n",
      "e$$$\n",
      "----- diversity: 1.2\n",
      "----- Generating with seed: \"e$$\"\n",
      "e$$$\n",
      "Epoch 22/100\n",
      "10233/10233 [==============================] - 2s 202us/step - loss: 1.7949 - val_loss: 2.0459\n",
      "Epoch 23/100\n",
      "10233/10233 [==============================] - 2s 194us/step - loss: 1.7800 - val_loss: 2.0621\n",
      "Epoch 24/100\n",
      "10233/10233 [==============================] - 2s 193us/step - loss: 1.7792 - val_loss: 2.0598\n",
      "Epoch 25/100\n",
      "10233/10233 [==============================] - 2s 197us/step - loss: 1.7821 - val_loss: 2.0470\n",
      "Epoch 26/100\n",
      "10233/10233 [==============================] - 2s 192us/step - loss: 1.7535 - val_loss: 2.0476\n",
      "Epoch 27/100\n",
      "10233/10233 [==============================] - 2s 182us/step - loss: 1.7569 - val_loss: 2.0430\n",
      "Epoch 28/100\n",
      "10233/10233 [==============================] - 2s 186us/step - loss: 1.7457 - val_loss: 2.0442\n",
      "Epoch 29/100\n",
      "10233/10233 [==============================] - 2s 197us/step - loss: 1.7281 - val_loss: 2.0517\n"
     ]
    },
    {
     "data": {
      "text/plain": [
       "<keras.callbacks.History at 0x124263550>"
      ]
     },
     "execution_count": 78,
     "metadata": {},
     "output_type": "execute_result"
    }
   ],
   "source": [
    "history = model.fit(X_sw, y_sw, epochs=100, batch_size=32, validation_split=.1, callbacks=callbacks)"
   ]
  },
  {
   "cell_type": "code",
   "execution_count": 79,
   "metadata": {},
   "outputs": [],
   "source": [
    "history = _78"
   ]
  },
  {
   "cell_type": "code",
   "execution_count": 80,
   "metadata": {},
   "outputs": [
    {
     "data": {
      "image/png": "[encoded data removed]",
      "text/plain": [
       "<Figure size 432x288 with 1 Axes>"
      ]
     },
     "metadata": {},
     "output_type": "display_data"
    }
   ],
   "source": [
    "plt.plot(history.history['loss'])\n",
    "plt.plot(history.history['val_loss'])\n",
    "plt.title('model loss')\n",
    "plt.ylabel('categorical cross entropy')\n",
    "plt.xlabel('epoch')\n",
    "plt.legend(['train', 'test'], loc='upper right')\n",
    "plt.show()"
   ]
  },
  {
   "cell_type": "markdown",
   "metadata": {},
   "source": [
    "### Looks like overfitting"
   ]
  },
  {
   "cell_type": "code",
   "execution_count": 88,
   "metadata": {},
   "outputs": [],
   "source": [
    "model = load_model('output/names.40-1.42.hdf5')"
   ]
  },
  {
   "cell_type": "code",
   "execution_count": 89,
   "metadata": {},
   "outputs": [],
   "source": [
    "# Freeze LSTM layers\n",
    "model.layers[0].trainable = False\n",
    "model.layers[2].trainable = False"
   ]
  },
  {
   "cell_type": "code",
   "execution_count": 90,
   "metadata": {},
   "outputs": [],
   "source": [
    "optimizer = SGD(lr=.01, momentum=.99, nesterov=True, clipvalue=1)\n",
    "model.compile(optimizer, 'categorical_crossentropy')"
   ]
  },
  {
   "cell_type": "code",
   "execution_count": 91,
   "metadata": {},
   "outputs": [],
   "source": [
    "sampler = SampleNames(starwars_chunks, timesteps, vocab_size, token_to_index, index_to_token)\n",
    "earlystopping = EarlyStopping(mode='min', patience=10, min_delta=.001)\n",
    "checkpoint = ModelCheckpoint('output/starwars-transfer.{epoch:02d}-{val_loss:.2f}.hdf5')\n",
    "callbacks = [sampler, earlystopping, checkpoint]"
   ]
  },
  {
   "cell_type": "code",
   "execution_count": 92,
   "metadata": {
    "scrolled": false
   },
   "outputs": [
    {
     "name": "stdout",
     "output_type": "stream",
     "text": [
      "Train on 10233 samples, validate on 1137 samples\n",
      "Epoch 1/100\n",
      "10233/10233 [==============================] - 3s 271us/step - loss: 2.5919 - val_loss: 2.3351\n",
      "\n",
      "----- Generating text after Epoch: 0\n",
      "----- diversity: 0.2\n",
      "----- Generating with seed: \"$$$\"\n",
      "$$$\n",
      "----- diversity: 0.5\n",
      "----- Generating with seed: \"$$$\"\n",
      "$$$\n",
      "----- diversity: 1.0\n",
      "----- Generating with seed: \"$$$\"\n",
      "$$$\n",
      "----- diversity: 1.2\n",
      "----- Generating with seed: \"$$$\"\n",
      "$$$\n",
      "Epoch 2/100\n",
      "10233/10233 [==============================] - 1s 108us/step - loss: 2.2966 - val_loss: 2.2518\n",
      "Epoch 3/100\n",
      "10233/10233 [==============================] - 1s 107us/step - loss: 2.2445 - val_loss: 2.2291\n",
      "Epoch 4/100\n",
      "10233/10233 [==============================] - 1s 103us/step - loss: 2.2192 - val_loss: 2.2143\n",
      "Epoch 5/100\n",
      "10233/10233 [==============================] - 1s 110us/step - loss: 2.2021 - val_loss: 2.2053\n",
      "Epoch 6/100\n",
      "10233/10233 [==============================] - 1s 102us/step - loss: 2.1873 - val_loss: 2.2000\n",
      "Epoch 7/100\n",
      "10233/10233 [==============================] - 1s 107us/step - loss: 2.1869 - val_loss: 2.1957\n",
      "Epoch 8/100\n",
      "10233/10233 [==============================] - 1s 108us/step - loss: 2.1807 - val_loss: 2.1925\n",
      "Epoch 9/100\n",
      "10233/10233 [==============================] - 1s 104us/step - loss: 2.1763 - val_loss: 2.1899\n",
      "Epoch 10/100\n",
      "10233/10233 [==============================] - 1s 106us/step - loss: 2.1707 - val_loss: 2.1917\n",
      "Epoch 11/100\n",
      "10233/10233 [==============================] - 1s 102us/step - loss: 2.1806 - val_loss: 2.1832\n",
      "\n",
      "----- Generating text after Epoch: 10\n",
      "----- diversity: 0.2\n",
      "----- Generating with seed: \"pal\"\n",
      "pallin$$$\n",
      "----- diversity: 0.5\n",
      "----- Generating with seed: \"pal\"\n",
      "palas$$$\n",
      "----- diversity: 1.0\n",
      "----- Generating with seed: \"pal\"\n",
      "palth \" nsy$$$\n",
      "----- diversity: 1.2\n",
      "----- Generating with seed: \"pal\"\n",
      "paloj$ns\n",
      "Epoch 12/100\n",
      "10233/10233 [==============================] - 1s 104us/step - loss: 2.1603 - val_loss: 2.1890\n",
      "Epoch 13/100\n",
      "10233/10233 [==============================] - 1s 113us/step - loss: 2.1706 - val_loss: 2.1868\n",
      "Epoch 14/100\n",
      "10233/10233 [==============================] - 1s 109us/step - loss: 2.1675 - val_loss: 2.1908\n",
      "Epoch 15/100\n",
      "10233/10233 [==============================] - 1s 110us/step - loss: 2.1666 - val_loss: 2.1984\n",
      "Epoch 16/100\n",
      "10233/10233 [==============================] - 1s 106us/step - loss: 2.1651 - val_loss: 2.1908\n",
      "Epoch 17/100\n",
      "10233/10233 [==============================] - 1s 104us/step - loss: 2.1647 - val_loss: 2.1949\n",
      "Epoch 18/100\n",
      "10233/10233 [==============================] - 1s 105us/step - loss: 2.1613 - val_loss: 2.1942\n",
      "Epoch 19/100\n",
      "10233/10233 [==============================] - 1s 107us/step - loss: 2.1624 - val_loss: 2.1864\n",
      "Epoch 20/100\n",
      "10233/10233 [==============================] - 1s 110us/step - loss: 2.1595 - val_loss: 2.1845\n",
      "Epoch 21/100\n",
      "10233/10233 [==============================] - 1s 110us/step - loss: 2.1538 - val_loss: 2.1865\n",
      "\n",
      "----- Generating text after Epoch: 20\n",
      "----- diversity: 0.2\n",
      "----- Generating with seed: \"^id\"\n",
      "^ider ander ander and e$$$\n",
      "----- diversity: 0.5\n",
      "----- Generating with seed: \"^id\"\n",
      "^idela$$$\n",
      "----- diversity: 1.0\n",
      "----- Generating with seed: \"^id\"\n",
      "^idew$$$\n",
      "----- diversity: 1.2\n",
      "----- Generating with seed: \"^id\"\n",
      "^ida$$$\n"
     ]
    }
   ],
   "source": [
    "history = model.fit(X_sw, y_sw, epochs=100, batch_size=32, validation_split=.1, callbacks=callbacks)"
   ]
  },
  {
   "cell_type": "code",
   "execution_count": 93,
   "metadata": {},
   "outputs": [
    {
     "data": {
      "image/png": "[encoded data removed]",
      "text/plain": [
       "<Figure size 432x288 with 1 Axes>"
      ]
     },
     "metadata": {},
     "output_type": "display_data"
    }
   ],
   "source": [
    "plt.plot(history.history['loss'])\n",
    "plt.plot(history.history['val_loss'])\n",
    "plt.title('model loss')\n",
    "plt.ylabel('categorical cross entropy')\n",
    "plt.xlabel('epoch')\n",
    "plt.legend(['train', 'test'], loc='upper right')\n",
    "plt.show()"
   ]
  },
  {
   "cell_type": "code",
   "execution_count": 98,
   "metadata": {},
   "outputs": [
    {
     "data": {
      "text/plain": [
       "10"
      ]
     },
     "execution_count": 98,
     "metadata": {},
     "output_type": "execute_result"
    }
   ],
   "source": [
    "numpy.argmin(history.history['val_loss'])"
   ]
  },
  {
   "cell_type": "code",
   "execution_count": 99,
   "metadata": {},
   "outputs": [],
   "source": [
    "model = load_model('output/starwars-transfer.10-2.05.hdf5')"
   ]
  },
  {
   "cell_type": "code",
   "execution_count": 100,
   "metadata": {},
   "outputs": [],
   "source": [
    "gen = NameGenerator(timesteps, vocab_size, token_to_index, index_to_token, model)"
   ]
  },
  {
   "cell_type": "code",
   "execution_count": 108,
   "metadata": {
    "scrolled": true
   },
   "outputs": [
    {
     "data": {
      "text/plain": [
       "['sin darth mara',\n",
       " 'sar',\n",
       " 'apus',\n",
       " \"dart' argorrio\",\n",
       " 'éurus hick',\n",
       " 'sarete giel',\n",
       " 'darth ple ',\n",
       " 'cel',\n",
       " 'rion stel cellarikandastor brugbe',\n",
       " 'rick',\n",
       " 'tas ',\n",
       " 'grea tramontgranssell',\n",
       " 'witt ',\n",
       " 'jar2kaakna a',\n",
       " 'dan fendi hutt ',\n",
       " 'chur',\n",
       " 'tal ort',\n",
       " 'reydosi',\n",
       " 'jar jarek ban',\n",
       " 'udsan paxangana',\n",
       " 'hora ballessst',\n",
       " 'oord',\n",
       " 'cammerebon',\n",
       " 'cattody',\n",
       " 'rujass',\n",
       " 'hamnalfo farlel',\n",
       " 'quer zollessumd',\n",
       " 'railon instarahdorth slydes',\n",
       " 'darth bl',\n",
       " 'jean ol torjerer kes',\n",
       " '0alem',\n",
       " 'orriestskywald',\n",
       " 'cappier ver e ger',\n",
       " 'osram',\n",
       " 'silitrese',\n",
       " 'deor  kin',\n",
       " 'hen or',\n",
       " 'rom',\n",
       " 'ter',\n",
       " 'miat ewren',\n",
       " 'dins',\n",
       " 'marek',\n",
       " 'vickorrie',\n",
       " 'javang deral togdan atian karek',\n",
       " 'sastli reeka ',\n",
       " 'bing alkoral solon',\n",
       " 'sybill',\n",
       " 'rutt e lural zhirus',\n",
       " 'darth bino erson',\n",
       " 'petda thektarea than anu']"
      ]
     },
     "execution_count": 108,
     "metadata": {},
     "output_type": "execute_result"
    }
   ],
   "source": [
    "gen.generate(n=50, diversity=.85)"
   ]
  },
  {
   "cell_type": "code",
   "execution_count": null,
   "metadata": {},
   "outputs": [],
   "source": []
  },
  {
   "cell_type": "code",
   "execution_count": null,
   "metadata": {},
   "outputs": [],
   "source": [
    "model.save()"
   ]
  }
 ],
 "metadata": {
  "kernelspec": {
   "display_name": "Python 3",
   "language": "python",
   "name": "python3"
  },
  "language_info": {
   "codemirror_mode": {
    "name": "ipython",
    "version": 3
   },
   "file_extension": ".py",
   "mimetype": "text/x-python",
   "name": "python",
   "nbconvert_exporter": "python",
   "pygments_lexer": "ipython3",
   "version": "3.6.4"
  }
 },
 "nbformat": 4,
 "nbformat_minor": 2
}
